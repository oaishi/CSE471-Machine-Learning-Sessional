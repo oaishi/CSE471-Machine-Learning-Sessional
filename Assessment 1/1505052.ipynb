{
 "cells": [
  {
   "cell_type": "code",
   "execution_count": null,
   "metadata": {},
   "outputs": [],
   "source": [
    "#Import required python module(s)\n",
    "import numpy as np "
   ]
  },
  {
   "cell_type": "code",
   "execution_count": null,
   "metadata": {},
   "outputs": [],
   "source": [
    "#load data from file\n",
    "data = np.genfromtxt('iris_multiclass.csv', delimiter=',',skip_header=True)\n",
    "\n",
    "#Distribute data into train and test sets\n",
    "X_train = data[:120,[0,1,2,3]]\n",
    "Y_train = data[:120,5]\n",
    "\n",
    "X_test = data[-30:,[0,1,2,3]]\n",
    "Y_test = data[-30:,5]\n",
    "print(Y_train)"
   ]
  },
  {
   "cell_type": "code",
   "execution_count": null,
   "metadata": {},
   "outputs": [],
   "source": [
    "#Define the required Sigmoid function\n",
    "def sigmoid(z):\n",
    "    return 1/(1+np.exp(-z))"
   ]
  },
  {
   "cell_type": "code",
   "execution_count": null,
   "metadata": {
    "scrolled": true
   },
   "outputs": [],
   "source": [
    "#Define the Raw implementation function to set the parameters (theta)\n",
    "\n",
    "def fit_implementation(X_train, Y_train, learning_rate=0.0005, max_iteration=1000, debug=False):\n",
    "    #Adding a column of 1's so that the first element of each input is always 1\n",
    "    #It would be multiplied with theta_0 later\n",
    "    X_train= np.insert(X_train, 0, values=1, axis=1)\n",
    "    no_attributes = X_train.shape[1]\n",
    "    \n",
    "    #Initialize model parameters theta\n",
    "    theta = np.zeros((no_attributes,1))\n",
    "    \n",
    "    #Run number of iterations\n",
    "    for icount in range(max_iteration):\n",
    "        #delta is the quantity that will be added with theta during updating theta\n",
    "        delta = np.zeros((no_attributes,1))\n",
    "        totalLogLikelihood = 0\n",
    "        #Check each data point\n",
    "        for instance, actualOutput in zip(X_train,Y_train):\n",
    "            instance=instance.reshape(no_attributes,1)\n",
    "            dotResult = np.dot(theta.T, instance)\n",
    "            \n",
    "            predictedValue=sigmoid(dotResult).squeeze()\n",
    "            #Calculate the derivative value for this data point\n",
    "            derivativeValue = instance*(actualOutput-predictedValue)\n",
    "            #Calculate the amount to be added with theta\n",
    "            delta += learning_rate*derivativeValue\n",
    "\n",
    "            logLikelihood = actualOutput*np.log(predictedValue)+(1-actualOutput)*np.log(1-predictedValue)\n",
    "            totalLogLikelihood += logLikelihood\n",
    "        theta = theta + delta\n",
    "        \n",
    "        #After each 100 iteration, print the status\n",
    "        if icount%100==0 and debug==True:\n",
    "            print(icount)\n",
    "            print(totalLogLikelihood)\n",
    "            print(theta)\n",
    "            \n",
    "    print(totalLogLikelihood)\n",
    "    print(theta)\n",
    "    \n",
    "    return theta\n",
    "\n",
    "\n",
    "def multciClassFitImplementation(X_train, Y_train):\n",
    "    #Determine the list unique classes (unique target variable values) \n",
    "    #Changes required here    \n",
    "    unique_val = np.unique(Y_train)\n",
    "    \n",
    "    #For each uniqueclass, determine the best classifier/parameter/theta which best separates the class with others\n",
    "    #You can temporarily modify Y_train data to achieve the target and can call the fit_implementation function\n",
    "    parameters = dict()\n",
    "    #Changes required here\n",
    "    \n",
    "    for each_unique in unique_val:\n",
    "        Y_train_temp = np.copy(Y_train)\n",
    "        Y_train_temp[Y_train_temp != each_unique] = 0\n",
    "        Y_train_temp[Y_train_temp == each_unique] = 1\n",
    "        parameters[each_unique] = fit_implementation(np.copy(X_train), Y_train_temp)\n",
    "                \n",
    "    return parameters\n",
    "        \n",
    "parameters = multciClassFitImplementation(X_train, Y_train)"
   ]
  },
  {
   "cell_type": "code",
   "execution_count": null,
   "metadata": {},
   "outputs": [],
   "source": [
    "#One of the following parameters of the function is now thetas which is a dictionary containing (targetClass,theta) \n",
    "#as (key,value) pairs for all target classes\n",
    "def prediction(X_test, Y_test, thetas):\n",
    "    #Adding a column of 1's so that the first element of each input is always 1\n",
    "    #It would be multiplied with theta_0 later\n",
    "    X_test= np.insert(X_test, 0, values=1, axis=1)\n",
    "    no_attributes = X_test.shape[1]\n",
    "    \n",
    "    correctCount = 0\n",
    "    totalCount = 0\n",
    "    \n",
    "    maxPredictedValue = -10000\n",
    "    predictedClass = 1.0\n",
    "    \n",
    "    #Check each data point\n",
    "    for instance, actualOutput in zip(X_test,Y_test):\n",
    "            instance=instance.reshape(no_attributes,1)\n",
    "            #Determine the maximum predicted value and predictedClass\n",
    "            #Changes required here\n",
    "            maxPredictedValue, predictedClass = 0, 0\n",
    "            for each_class in thetas:\n",
    "                theta = thetas[each_class]\n",
    "                \n",
    "                dotResult = np.dot(theta.T, instance)\n",
    "                predictedValue=sigmoid(dotResult).squeeze()\n",
    "            \n",
    "                if predictedValue >= maxPredictedValue:\n",
    "                    maxPredictedValue = predictedValue\n",
    "                    predictedClass = each_class                 \n",
    "                               \n",
    "\n",
    "            print(maxPredictedValue, predictedClass, actualOutput)\n",
    "            if predictedClass == actualOutput:\n",
    "                correctCount += 1\n",
    "            totalCount += 1\n",
    "    print(\"Total Correct Count: \",correctCount,\" Total Wrong Count: \",totalCount-correctCount,\" Accuracy: \",(correctCount*100)/(totalCount))\n",
    "    \n",
    "prediction(X_test, Y_test, parameters)"
   ]
  },
  {
   "cell_type": "markdown",
   "metadata": {},
   "source": [
    "# Expected Output: \n",
    "Total Correct Count:  30  Total Wrong Count:  0  Accuracy:  100.0"
   ]
  },
  {
   "cell_type": "code",
   "execution_count": null,
   "metadata": {},
   "outputs": [],
   "source": []
  }
 ],
 "metadata": {
  "kernelspec": {
   "display_name": "Python 3",
   "language": "python",
   "name": "python3"
  },
  "language_info": {
   "codemirror_mode": {
    "name": "ipython",
    "version": 3
   },
   "file_extension": ".py",
   "mimetype": "text/x-python",
   "name": "python",
   "nbconvert_exporter": "python",
   "pygments_lexer": "ipython3",
   "version": "3.6.4"
  }
 },
 "nbformat": 4,
 "nbformat_minor": 2
}
