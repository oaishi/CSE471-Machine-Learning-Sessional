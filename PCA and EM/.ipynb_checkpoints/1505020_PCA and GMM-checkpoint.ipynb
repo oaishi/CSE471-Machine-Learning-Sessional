{
 "cells": [
  {
   "cell_type": "code",
   "execution_count": 1,
   "metadata": {},
   "outputs": [
    {
     "name": "stdout",
     "output_type": "stream",
     "text": [
      "1000\n",
      "(1000, 100)\n"
     ]
    }
   ],
   "source": [
    "import numpy as np\n",
    "from copy import deepcopy\n",
    "# # https://numpy.org/doc/stable/reference/generated/numpy.linalg.eig.html\n",
    "# w, v = np.linalg.eig(np.diag((1, 2, 3)))\n",
    "# w, v\n",
    "with open('data.txt', 'r') as f:\n",
    "    data = f.readlines()\n",
    "    print(len(data))\n",
    "    data = [[float(z) for z in x.split()] for x in data]\n",
    "    data = np.array(data)\n",
    "#     print(data)\n",
    "    print(data.shape)\n",
    "    mean_ = data.mean(0)\n",
    "    std_ = data.std(0)\n",
    "    data_original = data\n",
    "    data_centered = data_original - mean_\n",
    "    data = (data_centered)/std_ # step1 and 2\n",
    "#     print(data)"
   ]
  },
  {
   "cell_type": "code",
   "execution_count": 2,
   "metadata": {},
   "outputs": [
    {
     "data": {
      "text/plain": [
       "(100, 100)"
      ]
     },
     "execution_count": 2,
     "metadata": {},
     "output_type": "execute_result"
    }
   ],
   "source": [
    "# https://numpy.org/doc/stable/reference/generated/numpy.cov.html\n",
    "covar_matrix = np.cov(data.T)\n",
    "covar_matrix.shape"
   ]
  },
  {
   "cell_type": "code",
   "execution_count": 3,
   "metadata": {
    "scrolled": true
   },
   "outputs": [],
   "source": [
    "w, v = np.linalg.eig(covar_matrix)\n",
    "# w"
   ]
  },
  {
   "cell_type": "code",
   "execution_count": 4,
   "metadata": {
    "scrolled": true
   },
   "outputs": [],
   "source": [
    "# w.argsort()[-2:][::-1], w[:2], w[w.argsort()[-2:]][::-1]"
   ]
  },
  {
   "cell_type": "code",
   "execution_count": 5,
   "metadata": {
    "scrolled": true
   },
   "outputs": [
    {
     "data": {
      "text/plain": [
       "(100, 2)"
      ]
     },
     "execution_count": 5,
     "metadata": {},
     "output_type": "execute_result"
    }
   ],
   "source": [
    "comp_count = 2\n",
    "indices = w.argsort()[-comp_count:][::-1]\n",
    "p_axes = v[:, indices]\n",
    "p_axes.shape"
   ]
  },
  {
   "cell_type": "code",
   "execution_count": 6,
   "metadata": {},
   "outputs": [
    {
     "data": {
      "text/plain": [
       "(1000, 2)"
      ]
     },
     "execution_count": 6,
     "metadata": {},
     "output_type": "execute_result"
    }
   ],
   "source": [
    "# p_cmpnts = np.dot(data_original, p_axes)\n",
    "p_cmpnts = np.dot(data, p_axes)\n",
    "p_cmpnts.shape"
   ]
  },
  {
   "cell_type": "code",
   "execution_count": 7,
   "metadata": {},
   "outputs": [],
   "source": [
    "# from matplotlib import pyplot as plt\n",
    "# plt.scatter(p_cmpnts[:,0], p_cmpnts[:,1]*-1)\n",
    "# plt.show()"
   ]
  },
  {
   "cell_type": "code",
   "execution_count": 8,
   "metadata": {},
   "outputs": [
    {
     "data": {
      "text/plain": [
       "<Figure size 640x480 with 1 Axes>"
      ]
     },
     "metadata": {},
     "output_type": "display_data"
    }
   ],
   "source": [
    "from matplotlib import pyplot as plt\n",
    "plt.scatter(p_cmpnts[:,0], p_cmpnts[:,1]*1)\n",
    "plt.show()"
   ]
  },
  {
   "cell_type": "code",
   "execution_count": 9,
   "metadata": {},
   "outputs": [
    {
     "name": "stdout",
     "output_type": "stream",
     "text": [
      "[0.98111543 0.01066647]\n",
      "[313.22762236  32.65955739]\n"
     ]
    },
    {
     "data": {
      "image/png": "[encoded data removed]",
      "text/plain": [
       "<Figure size 432x288 with 1 Axes>"
      ]
     },
     "metadata": {
      "needs_background": "light"
     },
     "output_type": "display_data"
    }
   ],
   "source": [
    "from sklearn.decomposition import PCA\n",
    "pca = PCA(n_components=2)\n",
    "temp = pca.fit_transform(data)\n",
    "\n",
    "print(pca.explained_variance_ratio_)\n",
    "\n",
    "print(pca.singular_values_)\n",
    "\n",
    "from matplotlib import pyplot as plt\n",
    "plt.scatter(temp[:,0], temp[:,1]*-1)\n",
    "plt.show()"
   ]
  },
  {
   "cell_type": "markdown",
   "metadata": {},
   "source": [
    "### GMM"
   ]
  },
  {
   "cell_type": "code",
   "execution_count": 10,
   "metadata": {},
   "outputs": [],
   "source": [
    "# p_cmpnts -= p_cmpnts.mean(0)\n",
    "# p_cmpnts /= p_cmpnts.std(0)\n",
    "\n",
    "# p_cmpnts /= max(p_cmpnts.max(), -1*p_cmpnts.min())\n"
   ]
  },
  {
   "cell_type": "code",
   "execution_count": 11,
   "metadata": {},
   "outputs": [],
   "source": [
    "def e_step(x, k):\n",
    "    numer_ = w[k] * gaussian_distribution(x, mean_arr[k], covar_arr[k], allow_singular=allow_singular)\n",
    "    denom_ = 0\n",
    "    for k in range(K):\n",
    "        denom_ += w[k] * gaussian_distribution(x, mean_arr[k], covar_arr[k], allow_singular=allow_singular)\n",
    "    return numer_/denom_"
   ]
  },
  {
   "cell_type": "code",
   "execution_count": 12,
   "metadata": {},
   "outputs": [],
   "source": [
    "def m_step(k, X=p_cmpnts, INITIALIZATION=False):\n",
    "    global mean_arr\n",
    "    global covar_arr\n",
    "    global w\n",
    "#     p_k = np.array([e_step(x=p_cmpnts[i], k=k) for i in range(N)])\n",
    "    mean_numer = 0.\n",
    "    covar_numer = 0.\n",
    "    \n",
    "    p_k = []\n",
    "    for i in range(N):\n",
    "        if INITIALIZATION:\n",
    "            p_ik = 1/N\n",
    "        else:\n",
    "            p_ik = e_step(x=X[i], k=k)\n",
    "        p_k += [p_ik]\n",
    "    \n",
    "    sum_probab = sum(p_k)\n",
    "    \n",
    "    for i in range(N):\n",
    "        mean_numer += p_k[i] * X[i]\n",
    "    mean_arr[k] = mean_numer / sum_probab\n",
    "    \n",
    "    for i in range(N):\n",
    "        tempVect = (X[i] - mean_arr[k])\n",
    "        covar_numer += p_k[i] * np.outer(tempVect, tempVect)\n",
    "#         print('>>', k, i, tempVect, p_k[i] * np.outer(tempVect, tempVect), covar_numer)\n",
    "    covar_arr[k] = covar_numer / sum_probab\n",
    "    \n",
    "    w[k] = sum_probab / N"
   ]
  },
  {
   "cell_type": "code",
   "execution_count": 13,
   "metadata": {},
   "outputs": [
    {
     "data": {
      "text/plain": [
       "array([[54.57910524, -3.88839091],\n",
       "       [-3.88839091,  0.27702147]])"
      ]
     },
     "execution_count": 13,
     "metadata": {},
     "output_type": "execute_result"
    }
   ],
   "source": [
    "a_ = [-7.38776727, 0.52632829]\n",
    "np.outer(a_, a_)"
   ]
  },
  {
   "cell_type": "code",
   "execution_count": 14,
   "metadata": {},
   "outputs": [
    {
     "name": "stdout",
     "output_type": "stream",
     "text": [
      "N: 1000 , D: 2 , K: 3\n"
     ]
    }
   ],
   "source": [
    "allow_singular = False\n",
    "\n",
    "\n",
    "from sklearn import datasets\n",
    "from scipy.stats import multivariate_normal\n",
    "\n",
    "D = p_cmpnts.shape[1]\n",
    "N = p_cmpnts.shape[0]\n",
    "K = 3\n",
    "print('N:', N, ', D:', D, ', K:', K)\n",
    "\n",
    "# mean_arr = np.random.choice(p_cmpnts.flatten(), (K, D))\n",
    "mean_arr = np.zeros([K, D])\n",
    "for d in range(D):\n",
    "    mean_arr[:, d] = np.random.choice(p_cmpnts[:, d], K)\n",
    "    \n",
    "covar_arr = np.zeros([K, D, D])\n",
    "for k in range(K):\n",
    "    covar_arr[k] = datasets.make_spd_matrix(D)\n",
    "#     covar_arr[k] = np.array([[1,0.1],[0.1,1.0]])\n",
    "    \n",
    "w = np.ones([K])\n",
    "w /= K\n",
    "\n",
    "# for k in range(K):\n",
    "#     m_step(k=k, X=p_cmpnts, INITIALIZATION=True)\n",
    "\n",
    "\n",
    "def gaussian_distribution(x, mean_, covar, allow_singular=False):\n",
    "    D = len(x)\n",
    "#     print(x, mean_, covar)\n",
    "    exp_term = np.exp(-.5 * np.dot(np.dot((x - mean_).T, np.linalg.inv(covar)), (x - mean_)))\n",
    "    denum_ = np.sqrt((2*np.pi)**(D) * np.linalg.det(covar))\n",
    "#     print('exp_term, denum_:', exp_term, denum_, np.linalg.det(covar))\n",
    "    return (1/denum_) * exp_term\n",
    "\n",
    "# gaussian_distribution = multivariate_normal.pdf\n"
   ]
  },
  {
   "cell_type": "code",
   "execution_count": 15,
   "metadata": {},
   "outputs": [],
   "source": [
    "def evaluate():\n",
    "    log_probab = 0.\n",
    "    for i in range(N):\n",
    "        x = p_cmpnts[i]\n",
    "        p_x = 0.\n",
    "        for k in range(K):\n",
    "            N_ki = gaussian_distribution(x, mean_arr[k], covar_arr[k], allow_singular=allow_singular)\n",
    "            p_x += w[k] * N_ki            \n",
    "            \n",
    "        log_probab += np.log(p_x)\n",
    "    return log_probab\n",
    "\n",
    "def predict(X=p_cmpnts):\n",
    "    p = np.zeros([N, K])\n",
    "    for i in range(N):\n",
    "        for k in range(K):\n",
    "            p[i, k] = e_step(X[i], k)\n",
    "    return p\n",
    "\n",
    "checkpoint_mean = None\n",
    "checkpoint_covar = None\n",
    "checkpoint_w = None\n",
    "def save_checkpoint():\n",
    "    checkpoint_mean = mean_arr.copy()\n",
    "    checkpoint_covar = covar_arr.copy()\n",
    "    checkpoint_w = w.copy()"
   ]
  },
  {
   "cell_type": "code",
   "execution_count": 16,
   "metadata": {},
   "outputs": [
    {
     "data": {
      "text/plain": [
       "(array([[-10.06951619,   0.48579417],\n",
       "        [  3.80802704,   0.99505018],\n",
       "        [ 16.28104771,  -0.57818139]]), array([[[ 2.61655856,  0.04769565],\n",
       "         [ 0.04769565,  0.60052727]],\n",
       " \n",
       "        [[ 2.2116937 , -0.12617708],\n",
       "         [-0.12617708,  0.20071601]],\n",
       " \n",
       "        [[ 2.43007271,  0.58823141],\n",
       "         [ 0.58823141,  0.79547117]]]))"
      ]
     },
     "execution_count": 16,
     "metadata": {},
     "output_type": "execute_result"
    }
   ],
   "source": [
    "mean_arr, covar_arr"
   ]
  },
  {
   "cell_type": "code",
   "execution_count": 19,
   "metadata": {
    "scrolled": true
   },
   "outputs": [
    {
     "name": "stdout",
     "output_type": "stream",
     "text": [
      "-4802.397775804642\n",
      "0 :\n",
      " -4802.4092042264365\n",
      "1 :\n",
      " -4802.403963333991\n",
      "2 :\n",
      " -4802.397147815211\n",
      "3 :\n",
      " -4802.390171226441\n",
      "4 :\n",
      " -4802.383275827683\n",
      "5 :\n",
      " -4802.37650754848\n",
      "6 :\n",
      " -4802.369876361486\n",
      "7 :\n",
      " -4802.363385227919\n",
      "8 :\n",
      " -4802.357035511533\n",
      "9 :\n",
      " -4802.350828021049\n",
      "10 :\n",
      " -4802.3447632251655\n",
      "11 :\n",
      " -4802.338841307589\n",
      "12 :\n",
      " -4802.333062190056\n",
      "13 :\n",
      " -4802.327425548048\n",
      "14 :\n",
      " -4802.32193082449\n",
      "15 :\n",
      " -4802.316577243012\n",
      "16 :\n",
      " -4802.311363820681\n",
      "17 :\n",
      " -4802.306289381006\n",
      "18 :\n",
      " -4802.30135256663\n",
      "19 :\n",
      " -4802.2965518523\n",
      "20 :\n",
      " -4802.291885557498\n",
      "21 :\n",
      " -4802.287351859253\n",
      "22 :\n",
      " -4802.282948804643\n",
      "23 :\n",
      " -4802.2786743231845\n",
      "24 :\n",
      " -4802.274526238908\n",
      "25 :\n",
      " -4802.27050228217\n",
      "26 :\n",
      " -4802.266600101137\n",
      "27 :\n",
      " -4802.262817272782\n",
      "28 :\n",
      " -4802.25915131359\n",
      "29 :\n",
      " -4802.2555996896635\n",
      "30 :\n",
      " -4802.252159826441\n",
      "31 :\n",
      " -4802.248829117904\n",
      "32 :\n",
      " -4802.245604935214\n",
      "33 :\n",
      " -4802.242484634888\n",
      "34 :\n",
      " -4802.2394655663975\n",
      "35 :\n",
      " -4802.236545079291\n",
      "36 :\n",
      " -4802.233720529794\n",
      "37 :\n",
      " -4802.230989286787\n",
      "38 :\n",
      " -4802.228348737462\n",
      "39 :\n",
      " -4802.225796292352\n",
      "40 :\n",
      " -4802.223329389917\n",
      "41 :\n",
      " -4802.220945500692\n",
      "42 :\n",
      " -4802.2186421310125\n",
      "43 :\n",
      " -4802.216416826283\n",
      "44 :\n",
      " -4802.214267173847\n",
      "45 :\n",
      " -4802.212190805531\n",
      "46 :\n",
      " -4802.21018539978\n",
      "47 :\n",
      " -4802.208248683498\n",
      "48 :\n",
      " -4802.206378433557\n",
      "49 :\n",
      " -4802.2045724780355\n",
      "50 :\n",
      " -4802.202828697117\n",
      "51 :\n",
      " -4802.201145023921\n",
      "52 :\n",
      " -4802.199519444841\n",
      "53 :\n",
      " -4802.197949999975\n",
      "54 :\n",
      " -4802.196434783046\n",
      "55 :\n",
      " -4802.194971941438\n",
      "56 :\n",
      " -4802.19355967592\n",
      "57 :\n",
      " -4802.192196240239\n",
      "58 :\n",
      " -4802.190879940656\n",
      "59 :\n",
      " -4802.189609135275\n",
      "60 :\n",
      " -4802.188382233358\n",
      "61 :\n",
      " -4802.187197694564\n",
      "62 :\n",
      " -4802.186054027988\n",
      "63 :\n",
      " -4802.184949791295\n",
      "64 :\n",
      " -4802.183883589709\n",
      "65 :\n",
      " -4802.182854074984\n",
      "66 :\n",
      " -4802.181859944276\n",
      "67 :\n",
      " -4802.180899939146\n",
      "68 :\n",
      " -4802.179972844376\n",
      "69 :\n",
      " -4802.179077486816\n",
      "70 :\n",
      " -4802.178212734273\n",
      "71 :\n",
      " -4802.177377494359\n",
      "72 :\n",
      " -4802.176570713312\n",
      "73 :\n",
      " -4802.175791374862\n",
      "74 :\n",
      " -4802.175038499125\n",
      "75 :\n",
      " -4802.174311141392\n",
      "76 :\n",
      " -4802.17360839106\n",
      "77 :\n",
      " -4802.172929370585\n",
      "78 :\n",
      " -4802.172273234261\n",
      "79 :\n",
      " -4802.171639167297\n",
      "80 :\n",
      " -4802.171026384678\n",
      "81 :\n",
      " -4802.170434130185\n",
      "82 :\n",
      " -4802.1698616753765\n",
      "83 :\n",
      " -4802.169308318642\n",
      "84 :\n",
      " -4802.168773384237\n",
      "85 :\n",
      " -4802.168256221341\n",
      "86 :\n",
      " -4802.167756203169\n",
      "87 :\n",
      " -4802.167272726142\n",
      "88 :\n",
      " -4802.166805208987\n",
      "89 :\n",
      " -4802.166353091914\n",
      "90 :\n",
      " -4802.165915835864\n",
      "91 :\n",
      " -4802.165492921694\n",
      "92 :\n",
      " -4802.165083849463\n",
      "93 :\n",
      " -4802.164688137696\n",
      "94 :\n",
      " -4802.16430532269\n",
      "95 :\n",
      " -4802.163934957845\n",
      "96 :\n",
      " -4802.163576613029\n",
      "97 :\n",
      " -4802.163229873906\n",
      "98 :\n",
      " -4802.162894341395\n",
      "99 :\n",
      " -4802.162569631043\n",
      "100 :\n",
      " -4802.162255372488\n",
      "101 :\n",
      " -4802.161951208912\n",
      "102 :\n",
      " -4802.161656796526\n",
      "103 :\n",
      " -4802.161371804024\n",
      "104 :\n",
      " -4802.161095912227\n",
      "105 :\n",
      " -4802.160828813462\n",
      "106 :\n",
      " -4802.160570211243\n",
      "107 :\n",
      " -4802.160319819772\n",
      "108 :\n",
      " -4802.1600773635555\n",
      "109 :\n",
      " -4802.15984257699\n",
      "110 :\n",
      " -4802.159615204008\n",
      "111 :\n",
      " -4802.1593949977205\n",
      "112 :\n",
      " -4802.15918172003\n",
      "113 :\n",
      " -4802.158975141305\n",
      "114 :\n",
      " -4802.158775040082\n",
      "115 :\n",
      " -4802.158581202726\n",
      "116 :\n",
      " -4802.158393423147\n",
      "117 :\n",
      " -4802.158211502504\n",
      "118 :\n",
      " -4802.158035248959\n",
      "119 :\n",
      " -4802.157864477355\n",
      "120 :\n",
      " -4802.157699009045\n",
      "121 :\n",
      " -4802.157538671562\n",
      "122 :\n",
      " -4802.157383298452\n",
      "123 :\n",
      " -4802.157232728986\n",
      "124 :\n",
      " -4802.15708680804\n",
      "125 :\n",
      " -4802.1569453858\n",
      "126 :\n",
      " -4802.156808317578\n",
      "127 :\n",
      " -4802.156675463657\n",
      "128 :\n",
      " -4802.1565466890925\n",
      "129 :\n",
      " -4802.156421863523\n",
      "130 :\n",
      " -4802.156300861009\n",
      "131 :\n",
      " -4802.1561835598895\n",
      "132 :\n",
      " -4802.156069842605\n",
      "133 :\n",
      " -4802.155959595528\n",
      "134 :\n",
      " -4802.15585270887\n",
      "135 :\n",
      " -4802.155749076531\n",
      "136 :\n",
      " -4802.155648595895\n",
      "137 :\n",
      " -4802.155551167835\n",
      "138 :\n",
      " -4802.155456696453\n",
      "139 :\n",
      " -4802.155365089079\n",
      "140 :\n",
      " -4802.155276256051\n",
      "141 :\n",
      " -4802.155190110721\n",
      "142 :\n",
      " -4802.1551065692265\n",
      "143 :\n",
      " -4802.155025550506\n",
      "144 :\n",
      " -4802.154946976093\n",
      "145 :\n",
      " -4802.154870770161\n",
      "146 :\n",
      " -4802.154796859266\n",
      "147 :\n",
      " -4802.154725172387\n",
      "148 :\n",
      " -4802.154655640826\n",
      "149 :\n",
      " -4802.1545881980455\n",
      "150 :\n",
      " -4802.154522779693\n",
      "151 :\n",
      " -4802.1544593235\n",
      "152 :\n",
      " -4802.154397769157\n",
      "153 :\n",
      " -4802.154338058289\n",
      "154 :\n",
      " -4802.154280134436\n",
      "155 :\n",
      " -4802.154223942881\n",
      "156 :\n",
      " -4802.154169430655\n",
      "157 :\n",
      " -4802.154116546497\n",
      "158 :\n",
      " -4802.154065240778\n",
      "159 :\n",
      " -4802.154015465375\n",
      "160 :\n",
      " -4802.153967173761\n",
      "161 :\n",
      " -4802.153920320824\n",
      "162 :\n",
      " -4802.153874862899\n",
      "163 :\n",
      " -4802.1538307576675\n",
      "164 :\n",
      " -4802.153787964148\n",
      "165 :\n",
      " -4802.153746442649\n",
      "166 :\n",
      " -4802.1537061547015\n",
      "167 :\n",
      " -4802.153667063067\n",
      "168 :\n",
      " -4802.15362913162\n",
      "169 :\n",
      " -4802.153592325386\n",
      "170 :\n",
      " -4802.153556610483\n",
      "171 :\n",
      " -4802.153521954034\n",
      "172 :\n",
      " -4802.153488324242\n",
      "173 :\n",
      " -4802.153455690241\n",
      "174 :\n",
      " -4802.153424022141\n",
      "175 :\n",
      " -4802.15339329097\n",
      "176 :\n",
      " -4802.153363468631\n",
      "177 :\n",
      " -4802.153334527914\n",
      "178 :\n",
      " -4802.153306442424\n",
      "179 :\n",
      " -4802.153279186583\n",
      "180 :\n",
      " -4802.153252735593\n",
      "181 :\n",
      " -4802.153227065409\n",
      "182 :\n",
      " -4802.1532021527355\n",
      "183 :\n",
      " -4802.153177974962\n",
      "184 :\n",
      " -4802.1531545101825\n",
      "185 :\n",
      " -4802.15313173716\n",
      "186 :\n",
      " -4802.15310963529\n",
      "187 :\n",
      " -4802.1530881846165\n",
      "188 :\n",
      " -4802.15306736575\n",
      "189 :\n",
      " -4802.153047159916\n",
      "190 :\n",
      " -4802.153027548902\n",
      "191 :\n",
      " -4802.15300851505\n",
      "192 :\n",
      " -4802.152990041215\n",
      "193 :\n",
      " -4802.152972110799\n",
      "194 :\n",
      " -4802.15295470768\n",
      "195 :\n",
      " -4802.152937816234\n",
      "196 :\n",
      " -4802.152921421312\n",
      "197 :\n",
      " -4802.152905508183\n",
      "198 :\n",
      " -4802.152890062615\n",
      "199 :\n",
      " -4802.152875070772\n",
      "200 :\n",
      " -4802.1528605192125\n",
      "201 :\n",
      " -4802.152846394943\n",
      "202 :\n",
      " -4802.152832685321\n",
      "203 :\n",
      " -4802.152819378114\n",
      "204 :\n",
      " -4802.152806461425\n",
      "205 :\n",
      " -4802.152793923733\n",
      "206 :\n",
      " -4802.1527817538545\n",
      "207 :\n",
      " -4802.152769940934\n",
      "208 :\n",
      " -4802.1527584744545\n",
      "209 :\n",
      " -4802.152747344178\n",
      "210 :\n",
      " -4802.152736540232\n",
      "211 :\n",
      " -4802.152726052969\n",
      "212 :\n",
      " -4802.152715873089\n",
      "213\n"
     ]
    }
   ],
   "source": [
    "# np.log(np.exp(1))\n",
    "THRESHOLD = 1e-5\n",
    "max_log_probab = -1e9\n",
    "log_probab = evaluate()\n",
    "print(log_probab)\n",
    "idx = 0\n",
    "while True:\n",
    "    for k in range(K):\n",
    "        m_step(k, X=p_cmpnts)\n",
    "    log_probab = evaluate()\n",
    "    if abs(log_probab - max_log_probab) < THRESHOLD or max_log_probab > log_probab:\n",
    "        break\n",
    "    print(idx, ':\\n', log_probab)\n",
    "#     print(idx, ':\\n', log_probab, '\\nmean_arr:\\n', mean_arr, '\\ncovar_arr:\\n', covar_arr, '\\n')\n",
    "    if max_log_probab < log_probab:\n",
    "        max_log_probab = log_probab\n",
    "        save_checkpoint()\n",
    "    idx += 1\n",
    "    \n",
    "    predicted_probab = predict(X=p_cmpnts)\n",
    "    predictions = predicted_probab.argmax(-1)\n",
    "    c0 = np.where(predictions==0)[0]\n",
    "    c1 = np.where(predictions==1)[0]\n",
    "    c2 = np.where(predictions==2)[0]\n",
    "    print(len(c0), len(c1), len(c2))\n",
    "    # c0\n",
    "    from matplotlib import pyplot as plt\n",
    "    plt.scatter(p_cmpnts[c0,0], p_cmpnts[c0,1]*-1)\n",
    "    plt.scatter(p_cmpnts[c1,0], p_cmpnts[c1,1]*-1)\n",
    "    plt.scatter(p_cmpnts[c2,0], p_cmpnts[c2,1]*-1)\n",
    "    plt.show()\n",
    "\n",
    "print(idx)"
   ]
  },
  {
   "cell_type": "code",
   "execution_count": null,
   "metadata": {
    "scrolled": true
   },
   "outputs": [],
   "source": [
    "\n",
    "predicted_probab = predict(X=p_cmpnts)\n",
    "print(np.sum(predicted_probab>1.))\n",
    "# predicted_probab.argmax(-1)"
   ]
  },
  {
   "cell_type": "code",
   "execution_count": null,
   "metadata": {
    "scrolled": true
   },
   "outputs": [],
   "source": [
    "predictions = predicted_probab.argmax(-1)\n",
    "\n",
    "c0 = np.where(predictions==0)[0]\n",
    "c1 = np.where(predictions==1)[0]\n",
    "c2 = np.where(predictions==2)[0]\n",
    "print(len(c0), len(c1), len(c2))\n",
    "# c0"
   ]
  },
  {
   "cell_type": "code",
   "execution_count": null,
   "metadata": {},
   "outputs": [],
   "source": [
    "from matplotlib import pyplot as plt\n",
    "plt.scatter(p_cmpnts[c0,0], p_cmpnts[c0,1]*-1)\n",
    "plt.scatter(p_cmpnts[c1,0], p_cmpnts[c1,1]*-1)\n",
    "plt.scatter(p_cmpnts[c2,0], p_cmpnts[c2,1]*-1)\n",
    "plt.show()"
   ]
  },
  {
   "cell_type": "code",
   "execution_count": null,
   "metadata": {},
   "outputs": [],
   "source": [
    "mean_arr, covar_arr"
   ]
  },
  {
   "cell_type": "code",
   "execution_count": null,
   "metadata": {},
   "outputs": [],
   "source": [
    "# https://docs.scipy.org/doc/scipy/reference/generated/scipy.stats.multivariate_normal.html\n",
    "import matplotlib.pyplot as plt\n",
    "from scipy.stats import multivariate_normal\n",
    "\n",
    "x, y = np.mgrid[-1:1:.01, -1:1:.01]\n",
    "pos = np.dstack((x, y))\n",
    "print(pos.shape, x.shape, y.shape)\n",
    "rv = multivariate_normal([0.5, -0.2], [[2.0, 0.3], [0.3, 0.5]])\n",
    "fig2 = plt.figure()\n",
    "ax2 = fig2.add_subplot(111)\n",
    "ax2.contourf(x, y, rv.pdf(pos))\n",
    "plt.show()"
   ]
  },
  {
   "cell_type": "code",
   "execution_count": null,
   "metadata": {},
   "outputs": [],
   "source": [
    "rv.pdf(p_cmpnts[0])"
   ]
  },
  {
   "cell_type": "code",
   "execution_count": null,
   "metadata": {},
   "outputs": [],
   "source": [
    "# gaussian_distribution(p_cmpnts[0], [0.5, -0.2], [[2.0, 0.3], [0.3, 0.5]])\n",
    "# gaussian_distribution(p_cmpnts[1], mean_arr[1], covar_arr[1])"
   ]
  },
  {
   "cell_type": "code",
   "execution_count": null,
   "metadata": {},
   "outputs": [],
   "source": [
    "# multivariate_normal.pdf(p_cmpnts[0], [0.5, -0.2], [[2.0, 0.3], [0.3, 0.5]])\n",
    "s1 = multivariate_normal.pdf([-0.46735384,  0.04160575],\n",
    "                        [ 0.01889225, -0.0005008 ], \n",
    "                        [[0.21531024, 0.000652 ], [0.000652, 0.00234888]])\n",
    "\n",
    "s2 = gaussian_distribution(np.array([-0.46735384,  0.04160575]),\n",
    "                        np.array([ 0.01889225, -0.0005008 ]), \n",
    "                        np.array([[0.21531024, 0.000652 ], [0.000652, 0.00234888]]))\n",
    "\n",
    "print('>>', s1, s2)"
   ]
  },
  {
   "cell_type": "code",
   "execution_count": null,
   "metadata": {},
   "outputs": [],
   "source": [
    "p_cmpnts[1], mean_arr[1], covar_arr[1]"
   ]
  }
 ],
 "metadata": {
  "kernelspec": {
   "display_name": "Python 3",
   "language": "python",
   "name": "python3"
  },
  "language_info": {
   "codemirror_mode": {
    "name": "ipython",
    "version": 3
   },
   "file_extension": ".py",
   "mimetype": "text/x-python",
   "name": "python",
   "nbconvert_exporter": "python",
   "pygments_lexer": "ipython3",
   "version": "3.7.4"
  }
 },
 "nbformat": 4,
 "nbformat_minor": 2
}
