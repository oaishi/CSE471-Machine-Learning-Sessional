{
 "cells": [
  {
   "cell_type": "code",
   "execution_count": 25,
   "metadata": {},
   "outputs": [],
   "source": [
    "import numpy as np\n",
    "import string\n",
    "import nltk\n",
    "from nltk.tokenize import word_tokenize\n",
    "from nltk.corpus import stopwords\n",
    "from nltk.stem import WordNetLemmatizer\n",
    "from nltk.stem import PorterStemmer"
   ]
  },
  {
   "cell_type": "code",
   "execution_count": 26,
   "metadata": {},
   "outputs": [
    {
     "name": "stdout",
     "output_type": "stream",
     "text": [
      "===Raw Text:===\n",
      " Bangladesh, officially the People's Republic of Bangladesh, is a country in South Asia. It is the eighth-most populous country in the world, with a population exceeding 162 million people. It is not other countries. It is the best place to live in.\n"
     ]
    }
   ],
   "source": [
    "#Original Text\n",
    "#Bangladesh, officially the People's Republic of Bangladesh, is a country in South Asia. It is the eighth-most \n",
    "#populous country in the world, with a population exceeding 162 million people. It is not other countries. \n",
    "#It is a better place to live in.\"\n",
    "text = \"Bangladesh, officially the People's 0x200 ひぐらしのなく頃に Republic of Bangladesh, is a country in South Asia. It is the eighth-most populous country in the world, with a population exceeding 162 million people. It is not other countries. It is the best place to live in.\"\n",
    "print(\"===Raw Text:===\\n\", text)"
   ]
  },
  {
   "cell_type": "code",
   "execution_count": 16,
   "metadata": {},
   "outputs": [
    {
     "name": "stdout",
     "output_type": "stream",
     "text": [
      "\n",
      "===After Lowercase:===\n",
      " bangladesh, officially the people's republic of bangladesh, is a country in south asia. it is the eighth-most populous country in the world, with a population exceeding 162 million people. it is not other countries. it is the best place to live in.\n"
     ]
    }
   ],
   "source": [
    "#Lowercase the text\n",
    "text = text.lower()\n",
    "print(\"\\n===After Lowercase:===\\n\", text)"
   ]
  },
  {
   "cell_type": "code",
   "execution_count": 17,
   "metadata": {},
   "outputs": [
    {
     "name": "stdout",
     "output_type": "stream",
     "text": [
      "\n",
      "===After Removing Numbers:===\n",
      " bangladesh, officially the people's republic of bangladesh, is a country in south asia. it is the eighth-most populous country in the world, with a population exceeding  million people. it is not other countries. it is the best place to live in.\n"
     ]
    }
   ],
   "source": [
    "#Number Removal\n",
    "import re\n",
    "text = re.sub(r'[-+]?\\d+', '', text)\n",
    "print(\"\\n===After Removing Numbers:===\\n\", text)"
   ]
  },
  {
   "cell_type": "code",
   "execution_count": 18,
   "metadata": {},
   "outputs": [
    {
     "name": "stdout",
     "output_type": "stream",
     "text": [
      "\n",
      "===After Removing Punctuations:===\n",
      " bangladesh officially the peoples republic of bangladesh is a country in south asia it is the eighthmost populous country in the world with a population exceeding  million people it is not other countries it is the best place to live in\n"
     ]
    }
   ],
   "source": [
    "#Remove punctuations\n",
    "import string\n",
    "text=text.translate((str.maketrans('','',string.punctuation)))\n",
    "print(\"\\n===After Removing Punctuations:===\\n\", text)"
   ]
  },
  {
   "cell_type": "code",
   "execution_count": 19,
   "metadata": {},
   "outputs": [
    {
     "name": "stdout",
     "output_type": "stream",
     "text": [
      "\n",
      "===After Tokenizing:===\n",
      " ['bangladesh', 'officially', 'the', 'peoples', 'republic', 'of', 'bangladesh', 'is', 'a', 'country', 'in', 'south', 'asia', 'it', 'is', 'the', 'eighthmost', 'populous', 'country', 'in', 'the', 'world', 'with', 'a', 'population', 'exceeding', 'million', 'people', 'it', 'is', 'not', 'other', 'countries', 'it', 'is', 'the', 'best', 'place', 'to', 'live', 'in']\n"
     ]
    }
   ],
   "source": [
    "#Tokenize\n",
    "from nltk.tokenize import word_tokenize\n",
    "text = word_tokenize(text)\n",
    "print(\"\\n===After Tokenizing:===\\n\", text)"
   ]
  },
  {
   "cell_type": "code",
   "execution_count": 20,
   "metadata": {},
   "outputs": [
    {
     "name": "stdout",
     "output_type": "stream",
     "text": [
      "\n",
      "===After Stopword Removal:===\n",
      " ['bangladesh', 'officially', 'peoples', 'republic', 'bangladesh', 'country', 'south', 'asia', 'eighthmost', 'populous', 'country', 'world', 'population', 'exceeding', 'million', 'people', 'countries', 'best', 'place', 'live']\n"
     ]
    }
   ],
   "source": [
    "#Remove stopwords\n",
    "#Following operation is required if you run this cell for the first time\n",
    "#nltk.download('stopwords')\n",
    "from nltk.corpus import stopwords\n",
    "stop_words = set(stopwords.words('english'))\n",
    "text = [word for word in text if not word in stop_words]\n",
    "print(\"\\n===After Stopword Removal:===\\n\", text)"
   ]
  },
  {
   "cell_type": "code",
   "execution_count": 23,
   "metadata": {},
   "outputs": [
    {
     "name": "stdout",
     "output_type": "stream",
     "text": [
      "\n",
      "===After Lemmatization:===\n",
      " ['bangladesh', 'officially', 'people', 'republic', 'bangladesh', 'country', 'south', 'asia', 'eighthmost', 'populous', 'country', 'world', 'population', 'exceeding', 'million', 'people', 'country', 'best', 'place', 'live']\n"
     ]
    }
   ],
   "source": [
    "#Lemmatize tokens\n",
    "#Following operation is required if you run this cell for the first time\n",
    "#nltk.download('wordnet')\n",
    "from nltk.stem import WordNetLemmatizer\n",
    "lemmatizer=WordNetLemmatizer()\n",
    "text = [lemmatizer.lemmatize(word) for word in text]\n",
    "print(\"\\n===After Lemmatization:===\\n\", text)"
   ]
  },
  {
   "cell_type": "code",
   "execution_count": 24,
   "metadata": {},
   "outputs": [
    {
     "name": "stdout",
     "output_type": "stream",
     "text": [
      "\n",
      "===After Stemming:===\n",
      " ['bangladesh', 'offici', 'peopl', 'republ', 'bangladesh', 'countri', 'south', 'asia', 'eighthmost', 'popul', 'countri', 'world', 'popul', 'exceed', 'million', 'peopl', 'countri', 'best', 'place', 'live']\n"
     ]
    }
   ],
   "source": [
    "#Stemming tokens\n",
    "from nltk.stem import PorterStemmer\n",
    "stemmer= PorterStemmer()\n",
    "text = [stemmer.stem(word) for word in text]\n",
    "print(\"\\n===After Stemming:===\\n\", text)"
   ]
  },
  {
   "cell_type": "code",
   "execution_count": 27,
   "metadata": {},
   "outputs": [
    {
     "name": "stdout",
     "output_type": "stream",
     "text": [
      "===Raw Text:===\n",
      " Bangladesh, officially the People's Republic of Bangladesh, is a country in South Asia. It is the eighth-most populous country in the world, with a population exceeding 162 million people. It is not other countries. It is a better place to live in.\n",
      "\n",
      "===After Lowercase:===\n",
      " bangladesh, officially the people's republic of bangladesh, is a country in south asia. it is the eighth-most populous country in the world, with a population exceeding 162 million people. it is not other countries. it is a better place to live in.\n",
      "\n",
      "===After Removing Numbers:===\n",
      " bangladesh, officially the people's republic of bangladesh, is a country in south asia. it is the eighth-most populous country in the world, with a population exceeding  million people. it is not other countries. it is a better place to live in.\n",
      "\n",
      "===After Removing Punctuations:===\n",
      " bangladesh officially the peoples republic of bangladesh is a country in south asia it is the eighthmost populous country in the world with a population exceeding  million people it is not other countries it is a better place to live in\n",
      "\n",
      "===After Tokenizing:===\n",
      " ['bangladesh', 'officially', 'the', 'peoples', 'republic', 'of', 'bangladesh', 'is', 'a', 'country', 'in', 'south', 'asia', 'it', 'is', 'the', 'eighthmost', 'populous', 'country', 'in', 'the', 'world', 'with', 'a', 'population', 'exceeding', 'million', 'people', 'it', 'is', 'not', 'other', 'countries', 'it', 'is', 'a', 'better', 'place', 'to', 'live', 'in']\n",
      "\n",
      "===After Stopword Removal:===\n",
      " ['bangladesh', 'officially', 'peoples', 'republic', 'bangladesh', 'country', 'south', 'asia', 'eighthmost', 'populous', 'country', 'world', 'population', 'exceeding', 'million', 'people', 'countries', 'better', 'place', 'live']\n",
      "\n",
      "===After Lemmatization:===\n",
      " ['bangladesh', 'officially', 'people', 'republic', 'bangladesh', 'country', 'south', 'asia', 'eighthmost', 'populous', 'country', 'world', 'population', 'exceeding', 'million', 'people', 'country', 'better', 'place', 'live']\n",
      "\n",
      "===After Stemming:===\n",
      " ['bangladesh', 'offici', 'peopl', 'republ', 'bangladesh', 'countri', 'south', 'asia', 'eighthmost', 'popul', 'countri', 'world', 'popul', 'exceed', 'million', 'peopl', 'countri', 'better', 'place', 'live']\n"
     ]
    }
   ],
   "source": [
    "#Original Text\n",
    "#Bangladesh, officially the People's Republic of Bangladesh, is a country in South Asia. It is the eighth-most \n",
    "#populous country in the world, with a population exceeding 162 million people. It is not other countries. \n",
    "#It is a better place to live in.\"\n",
    "text = \"Bangladesh, officially the People's Republic of Bangladesh, is a country in South Asia. It is the eighth-most populous country in the world, with a population exceeding 162 million people. It is not other countries. It is a better place to live in.\"\n",
    "print(\"===Raw Text:===\\n\", text)\n",
    "\n",
    "#Lowercase the text\n",
    "text = text.lower()\n",
    "print(\"\\n===After Lowercase:===\\n\", text)\n",
    "\n",
    "#Number Removal\n",
    "import re\n",
    "text = re.sub(r'[-+]?\\d+', '', text)\n",
    "print(\"\\n===After Removing Numbers:===\\n\", text)\n",
    "\n",
    "#Remove punctuations\n",
    "text=text.translate((str.maketrans('','',string.punctuation)))\n",
    "print(\"\\n===After Removing Punctuations:===\\n\", text)\n",
    "\n",
    "#Tokenize\n",
    "text = word_tokenize(text)\n",
    "print(\"\\n===After Tokenizing:===\\n\", text)\n",
    "\n",
    "#Remove stopwords\n",
    "stop_words = set(stopwords.words('english'))\n",
    "text = [word for word in text if not word in stop_words]\n",
    "print(\"\\n===After Stopword Removal:===\\n\", text)\n",
    "\n",
    "#Lemmatize tokens\n",
    "lemmatizer=WordNetLemmatizer()\n",
    "text = [lemmatizer.lemmatize(word) for word in text]\n",
    "print(\"\\n===After Lemmatization:===\\n\", text)\n",
    "\n",
    "#Stemming tokens\n",
    "stemmer= PorterStemmer()\n",
    "text = [stemmer.stem(word) for word in text]\n",
    "print(\"\\n===After Stemming:===\\n\", text)"
   ]
  },
  {
   "cell_type": "code",
   "execution_count": 36,
   "metadata": {},
   "outputs": [
    {
     "name": "stdout",
     "output_type": "stream",
     "text": [
      "<item name=\"item1\">This is the first line of text.</item>\n",
      "<item name=\"item2\">This is the second line.</item>\n"
     ]
    }
   ],
   "source": [
    "#Following operation is required if you run this cell for the first time\n",
    "#!pip3 install bs4\n",
    "from bs4 import BeautifulSoup as bs\n",
    "with open('Sample.xml','r',encoding='utf-8') as file:\n",
    "    content = file.read()\n",
    "    soup = bs(content)\n",
    "    for items in soup.findAll(\"item\"):\n",
    "        print(items)\n"
   ]
  }
 ],
 "metadata": {
  "kernelspec": {
   "display_name": "Python 3",
   "language": "python",
   "name": "python3"
  },
  "language_info": {
   "codemirror_mode": {
    "name": "ipython",
    "version": 3
   },
   "file_extension": ".py",
   "mimetype": "text/x-python",
   "name": "python",
   "nbconvert_exporter": "python",
   "pygments_lexer": "ipython3",
   "version": "3.7.4"
  }
 },
 "nbformat": 4,
 "nbformat_minor": 2
}
