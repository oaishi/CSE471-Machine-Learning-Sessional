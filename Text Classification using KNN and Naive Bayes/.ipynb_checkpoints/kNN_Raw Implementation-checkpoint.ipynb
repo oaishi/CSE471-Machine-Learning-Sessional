{
 "cells": [
  {
   "cell_type": "code",
   "execution_count": 1,
   "metadata": {},
   "outputs": [],
   "source": [
    "#Import required python modules\n",
    "import numpy as np \n",
    "import matplotlib.pyplot as plt "
   ]
  },
  {
   "cell_type": "code",
   "execution_count": 2,
   "metadata": {},
   "outputs": [],
   "source": [
    "#load data from file\n",
    "data = np.genfromtxt('iris.csv', delimiter=',',skip_header=True)\n",
    "\n",
    "input_columns = [0,1]\n",
    "output_column = [5]\n",
    "\n",
    "#Distribute data into train and test sets\n",
    "X_train = data[:80,input_columns]\n",
    "Y_train = data[:80,output_column]\n",
    "\n",
    "X_test = data[-20:,input_columns]\n",
    "Y_test = data[-20:,output_column]\n"
   ]
  },
  {
   "cell_type": "code",
   "execution_count": 3,
   "metadata": {},
   "outputs": [
    {
     "name": "stdout",
     "output_type": "stream",
     "text": [
      "Total Correct Count:  19  Total Wrong Count:  1  Accuracy:  95.0\n"
     ]
    }
   ],
   "source": [
    "#Distance calculation between two data points\n",
    "def euclidean_distance(instance1, instance2):\n",
    "    distance = 0.0\n",
    "    for i in range(len(instance1)):\n",
    "        distance += (instance1[i] - instance2[i])**2\n",
    "    return np.sqrt(distance)\n",
    "\n",
    "#Make prediction of the test points using training points\n",
    "def prediction(X_train, Y_train, X_test, n_neighbors=3):\n",
    "    allTestNeighbers=[]\n",
    "    allPredictedOutputs =[]\n",
    "    \n",
    "    #Determine Number of unique class lebels\n",
    "    uniqueOutputLabels = []\n",
    "    for label in Y_train:\n",
    "        if label not in uniqueOutputLabels:\n",
    "            uniqueOutputLabels.append(label)\n",
    "    uniqueOutputCount = len(uniqueOutputLabels)\n",
    "    \n",
    "    #calculate for earch test data points\n",
    "    for testInput in X_test:\n",
    "        allDistances = []\n",
    "        for trainInput, trainActualOutput in zip(X_train, Y_train):\n",
    "            distance = euclidean_distance(testInput, trainInput)\n",
    "            allDistances.append((trainInput, trainActualOutput, distance))\n",
    "        #Sort (in ascending order) the training data points based on distances from the test point     \n",
    "        allDistances.sort(key=lambda x: x[2])\n",
    "        \n",
    "        \n",
    "        #Assuming output labels are from 0 to uniqueOutputCount-1\n",
    "        voteCount = np.zeros(uniqueOutputCount)\n",
    "        neighbors = []\n",
    "        for n in range(n_neighbors):\n",
    "            neighbors.append(allDistances[n][0])\n",
    "            class_label = int(allDistances[n][1])\n",
    "            voteCount[class_label] += 1\n",
    "        \n",
    "        #Determine the Majority Voting (Equal weight considered)\n",
    "        predictedOutput = np.argmax(voteCount)\n",
    "        \n",
    "        allTestNeighbers.append(neighbors)\n",
    "        allPredictedOutputs.append(predictedOutput)\n",
    "        \n",
    "    return allPredictedOutputs, allTestNeighbers\n",
    "        \n",
    "\n",
    "def performanceEvaluation(X_train, Y_train, X_test, Y_test, n_neighbors=3):\n",
    "    totalCount = 0\n",
    "    correctCount = 0\n",
    "    \n",
    "    for testInput, testActualOutput in zip(X_test, Y_test):\n",
    "        predictedOutput,_ = prediction(X_train, Y_train, [testInput], n_neighbors)\n",
    "        \n",
    "        if predictedOutput == testActualOutput:\n",
    "            correctCount += 1\n",
    "        totalCount += 1\n",
    "    \n",
    "    print(\"Total Correct Count: \",correctCount,\" Total Wrong Count: \",totalCount-correctCount,\" Accuracy: \",(correctCount*100)/(totalCount))\n",
    "\n",
    "        \n",
    "        \n",
    "performanceEvaluation(X_train, Y_train, X_test, Y_test,3)        "
   ]
  },
  {
   "cell_type": "code",
   "execution_count": 4,
   "metadata": {},
   "outputs": [
    {
     "data": {
      "text/plain": [
       "([0], [[array([5.2, 2.7]), array([5., 3.]), array([5.4, 3. ])]])"
      ]
     },
     "execution_count": 4,
     "metadata": {},
     "output_type": "execute_result"
    }
   ],
   "source": [
    "example_input = [[5.2,2.9]]\n",
    "prediction(X_train, Y_train, example_input, n_neighbors=3)"
   ]
  },
  {
   "cell_type": "code",
   "execution_count": null,
   "metadata": {},
   "outputs": [],
   "source": []
  }
 ],
 "metadata": {
  "kernelspec": {
   "display_name": "Python 3",
   "language": "python",
   "name": "python3"
  },
  "language_info": {
   "codemirror_mode": {
    "name": "ipython",
    "version": 3
   },
   "file_extension": ".py",
   "mimetype": "text/x-python",
   "name": "python",
   "nbconvert_exporter": "python",
   "pygments_lexer": "ipython3",
   "version": "3.7.4"
  }
 },
 "nbformat": 4,
 "nbformat_minor": 2
}
